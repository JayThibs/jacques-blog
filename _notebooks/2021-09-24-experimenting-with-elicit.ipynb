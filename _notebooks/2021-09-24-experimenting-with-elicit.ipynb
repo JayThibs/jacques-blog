{
 "cells": [
  {
   "cell_type": "markdown",
   "source": [
    "# Experimenting with Elicit (GPT-3)\n",
    "\n",
    "- toc: true\n",
    "- badges: true\n",
    "- comments: true\n",
    "- image: images/elicit-icon.png\n",
    "- hide: false\n",
    "- categories: [gpt, elicit, ought]"
   ],
   "metadata": {}
  },
  {
   "cell_type": "markdown",
   "source": [
    "# What This Post Is About\n",
    "\n",
    "A few months ago, I gained access to a new exciting tool called [Elicit](https://elicit.org/) from [Ought](https://ought.org/). Elicit is an AI research assistant that helps you answer questions \"by making qualitative reasoning steps explicit and using language models to incrementally automate those steps.\" \n",
    "\n",
    "Using GPT-3 on the backend, Elicit is able to help with a wide range of research and brainstorming tasks. The team behind Elicit are focused on building tools that will help millions of people think through the types of questions we ask ourselves every day.\n",
    "\n",
    "You can watch [Elicit screencasts](https://www.youtube.com/channel/UCg5fl1Ht965Me_KuV84XFwg) on YouTube to get a sense of all the things it can do. It really is impressive.\n",
    "\n",
    "# What Excites Me About Tools Like Elicit\n",
    "\n",
    "Recent innovations in machine learning have helped us build models which are great at dealing with labeled data tasks, but how can we use these models to answer questions where we don't have a labeled dataset and are a bit more subjective? For example, could we have an AI where we can ask it questions like \"How do I decide what career I should dedicate my life to?\" or \"My partner feels jealous about my career growth, what should I do?\" It would really be amazing if we could have an AI that could answer these questions.\n",
    "\n",
    "I'm particularly excited about how AI will help make knowledge accessible to everyone in a way that will guide humanity towards a better future. Though still in its early stages, AI has started showing signs of having the potential to revolutionize education, research, and even therapy. \n",
    "\n",
    "One glimpse of this was in a Twitter thread where one of the employees at OpenAI said they used GPT-3 as a therapist and were able to achieve a deeper breakthrough than they had ever had with a human therapist. We're not at the point where our models can be taken out of the labs yet, but once our models become exceptional and robust, and we can make such fields unbelievably cheap, accessible, and compatible with human values, inequality of world-class services will likely change quickly.\n",
    "\n",
    "# My Initial Deep Dive into Elicit\n",
    "\n",
    "\n",
    "\n",
    "# Into Forecasting?\n",
    "\n",
    "Elicit has a feature called [Elicit Forecast](https://forecast.elicit.org/binary?binaryQuestions.sortBy=popularity&limit=20&offset=0&predictors=community) which is hidden from the main website, but they go into a bit of detail about how it works [here](https://www.youtube.com/watch?v=eIxoj46UibY). For any aspiring superforecaster out there, this could be a great tool.\n",
    "\n",
    "In the future, we can expect people will ask Elicit a question like, \"Will we be able to finish project x on time?\" and Elicit will give us its best guess. As time goes on, I'm sure a tool like Elicit will become an invaluable tool for not just forecasters, but also people like project managers who want to get a better idea on how long a project will actually take.\n",
    "\n",
    "## Closing Thoughts\n",
    "\n",
    "Having worked in government for the past 4 years, there's a lot of things that excite me about Elicit, things that I thought of building myself. I'm glad someone is building a tool like this. \n",
    "\n",
    "As they write on their website, I can see it being applied in government policy (Senators could become better at asking questions and could get caught up to speed on issues much more effectively than the current approach), but I can also see it working in strategic foresight teams like Horizons Canada or in regulatory bodies who have to dig into tons of PDFs to find the right information and make sure the company is compliant with the law.\n",
    "\n",
    "I will note that one of the things I am the most excited for is creating a second brain with a tool like Elicit. Sure we can use Roam Research to connect our thoughts and we can even load tons of text in Roam Research, but I think Semantic Search with Elicit could be much more powerful by simply having it point to or answer questions we have on a certain topic after loading 100k documents on that topic."
   ],
   "metadata": {}
  }
 ],
 "metadata": {
  "orig_nbformat": 4,
  "language_info": {
   "name": "python",
   "version": "3.7.4",
   "mimetype": "text/x-python",
   "codemirror_mode": {
    "name": "ipython",
    "version": 3
   },
   "pygments_lexer": "ipython3",
   "nbconvert_exporter": "python",
   "file_extension": ".py"
  },
  "kernelspec": {
   "name": "python3",
   "display_name": "Python 3.7.4 64-bit ('base': conda)"
  },
  "interpreter": {
   "hash": "8e9a18fee897584348f245f3ed6851049a290baafc4465fb2a04a303ae1e268b"
  }
 },
 "nbformat": 4,
 "nbformat_minor": 2
}