{
 "cells": [
  {
   "cell_type": "markdown",
   "source": [
    "# What I Learned from the Full Stack Deep Learning Labs\n",
    "\n",
    "- toc: true\n",
    "- badges: true\n",
    "- comments: true\n",
    "- image: images/fsdl-icon.png\n",
    "- hide: true\n",
    "- categories: [deep-learning, full-stack-deep-learning, projects]"
   ],
   "metadata": {}
  },
  {
   "cell_type": "markdown",
   "source": [
    "## What are the Full Stack Deep Learning Labs About?\n",
    "\n"
   ],
   "metadata": {}
  },
  {
   "cell_type": "markdown",
   "source": [],
   "metadata": {}
  }
 ],
 "metadata": {
  "orig_nbformat": 4,
  "language_info": {
   "name": "python",
   "version": "3.7.4",
   "mimetype": "text/x-python",
   "codemirror_mode": {
    "name": "ipython",
    "version": 3
   },
   "pygments_lexer": "ipython3",
   "nbconvert_exporter": "python",
   "file_extension": ".py"
  },
  "kernelspec": {
   "name": "python3",
   "display_name": "Python 3.7.4 64-bit ('base': conda)"
  },
  "interpreter": {
   "hash": "8e9a18fee897584348f245f3ed6851049a290baafc4465fb2a04a303ae1e268b"
  }
 },
 "nbformat": 4,
 "nbformat_minor": 2
}