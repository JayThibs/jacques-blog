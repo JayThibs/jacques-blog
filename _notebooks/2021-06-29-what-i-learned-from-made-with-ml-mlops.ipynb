{
 "cells": [
  {
   "cell_type": "markdown",
   "metadata": {},
   "source": [
    "# What I Learned From: Made With ML - MLOps\n",
    "\n",
    "- toc: true \n",
    "- badges: true\n",
    "- comments: true\n",
    "- categories: [MLOps, Made With ML]\n",
    "- image: images/made-with-ml.png\n",
    "- hide: false"
   ]
  },
  {
   "cell_type": "markdown",
   "metadata": {},
   "source": [
    "# What This Post Is About\n",
    "\n",
    "In this post, I will capture the learnings I made when going through the [Made With ML MLOps](https://madewithml.com/#mlops). I will try to add my personal twist and I will skip over the section I already feel comfortable with, so you can go directly to the [Made With ML](https://madewithml.com) if you want to learn in more detail.\n",
    "\n",
    "My focus will be to give the TLDR of what I personally have learned the most from the website since that will be the most beneficial for me. That doesn't mean the things I don't cover are less important. For example, understanding intuition and the objective of a project is crucial and it is something I find many people will miss. If you're not aiming for the correct objective, everything else is basically meaningless.\n",
    "\n",
    "Anyway, without further ado, here are my notes from the MLOps course:\n",
    "\n"
   ]
  },
  {
   "cell_type": "markdown",
   "metadata": {},
   "source": [
    "This is my first blog post on my website! *Victory!*\n",
    "\n",
    "![](https://gifimage.net/wp-content/uploads/2017/11/final-fantasy-victory-gif-9.gif)\n",
    "\n",
    "And more to come!"
   ]
  },
  {
   "cell_type": "code",
   "execution_count": null,
   "metadata": {},
   "outputs": [],
   "source": []
  }
 ],
 "metadata": {
  "kernelspec": {
   "display_name": "Python 3",
   "language": "python",
   "name": "python3"
  },
  "language_info": {
   "codemirror_mode": {
    "name": "ipython",
    "version": 3
   },
   "file_extension": ".py",
   "mimetype": "text/x-python",
   "name": "python",
   "nbconvert_exporter": "python",
   "pygments_lexer": "ipython3",
   "version": "3.7.4"
  }
 },
 "nbformat": 4,
 "nbformat_minor": 5
}
